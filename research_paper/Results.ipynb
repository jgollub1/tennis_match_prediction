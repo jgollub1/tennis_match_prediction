{
 "cells": [
  {
   "cell_type": "code",
   "execution_count": 1,
   "metadata": {},
   "outputs": [],
   "source": [
    "import sys\n",
    "\n",
    "sys.path.append('../src/')\n",
    "sys.path.append('../src/sackmann')"
   ]
  },
  {
   "cell_type": "code",
   "execution_count": 2,
   "metadata": {},
   "outputs": [],
   "source": [
    "import pandas as pd\n",
    "import numpy as np\n",
    "from sklearn.metrics import log_loss, accuracy_score\n",
    "from tennisMatchProbability import matchProb\n",
    "from data_functions import *\n",
    "\n",
    "years = [2014, 2015, 2016]\n",
    "df = pd.read_csv('../match_data_constructed/match_df_06_15_2021.csv')"
   ]
  },
  {
   "cell_type": "markdown",
   "metadata": {},
   "source": [
    "# Results"
   ]
  },
  {
   "cell_type": "code",
   "execution_count": 3,
   "metadata": {},
   "outputs": [
    {
     "name": "stdout",
     "output_type": "stream",
     "text": [
      "year: 2014, (n=2488)\n",
      "\t s_kls\n",
      "\t 0.08462678746748534\n",
      "\t s_kls_EM\n",
      "\t 0.08231875070296447\n",
      "\t s_sf_kls\n",
      "\t 0.08829716008831531\n",
      "\t s_sf_kls_EM\n",
      "\t 0.0849889515700743\n",
      "\t s_adj_kls\n",
      "\t 0.08289654745245684\n",
      "\t s_adj_kls_EM\n",
      "\t 0.08208069260261054\n",
      "\t s_kls_elo\n",
      "\t 0.08041106195022933\n",
      "\t s_commop_kls\n",
      "\t 0.12566877851999825\n",
      "\t commop_s_pct\n",
      "\t 0.09566609908643872\n",
      "\t s_baseline\n",
      "\t 0.09186777825841203\n",
      "year: 2015, (n=2540)\n",
      "\t s_kls\n",
      "\t 0.0915845182670169\n",
      "\t s_kls_EM\n",
      "\t 0.09089582160626646\n",
      "\t s_sf_kls\n",
      "\t 0.09679856604461995\n",
      "\t s_sf_kls_EM\n",
      "\t 0.09438843716535182\n",
      "\t s_adj_kls\n",
      "\t 0.08982010201972893\n",
      "\t s_adj_kls_EM\n",
      "\t 0.08941681032571608\n",
      "\t s_kls_elo\n",
      "\t 0.08904113564848239\n",
      "\t s_commop_kls\n",
      "\t 0.13463850796475682\n",
      "\t commop_s_pct\n",
      "\t 0.10456241007094708\n",
      "\t s_baseline\n",
      "\t 0.10146801504487638\n",
      "year: 2016, (n=2594)\n",
      "\t s_kls\n",
      "\t 0.08450666147881826\n",
      "\t s_kls_EM\n",
      "\t 0.08232768041652179\n",
      "\t s_sf_kls\n",
      "\t 0.09042685777028134\n",
      "\t s_sf_kls_EM\n",
      "\t 0.0871968706792498\n",
      "\t s_adj_kls\n",
      "\t 0.08247261322102856\n",
      "\t s_adj_kls_EM\n",
      "\t 0.08182700371862718\n",
      "\t s_kls_elo\n",
      "\t 0.07976120836969487\n",
      "\t s_commop_kls\n",
      "\t 0.12389885464490778\n",
      "\t commop_s_pct\n",
      "\t 0.09429906982660216\n",
      "\t s_baseline\n",
      "\t 0.09008720024475513\n"
     ]
    }
   ],
   "source": [
    "for year in years:\n",
    "    sub_df = df[(df['match_year'] == year)]\n",
    "    sub_df = sub_df[sub_df['tny_name']!='ATP Challenger Tour Finals CH']\n",
    "    sub_df = sub_df[sub_df['tny_name']!='Davis Cup']\n",
    "    \n",
    "    print('year: {}, (n={})'.format(year, sub_df.shape[0]))\n",
    "    \n",
    "    s_pred = np.concatenate([sub_df['avg_52_s'], sub_df['avg_52_s']], axis=0)\n",
    "    s_true = np.concatenate([sub_df['p0_s_pct_obsv'], sub_df['p1_s_pct_obsv']], axis=0)\n",
    "\n",
    "    sr_cols = ['s_kls','s_kls_EM','s_sf_kls', 's_sf_kls_EM','s_adj_kls','s_adj_kls_EM','s_kls_elo',\n",
    "               's_commop_kls', 'commop_s_pct', 's_baseline']\n",
    "    for col in sr_cols:\n",
    "        print('\\t', col)\n",
    "        s_pred = np.concatenate([sub_df['p0_'+col], sub_df['p1_'+col]], axis=0)\n",
    "        s_true = np.concatenate([sub_df['p0_s_pct_obsv'], sub_df['p1_s_pct_obsv']], axis=0)\n",
    "        print('\\t', np.mean((s_true - s_pred)**2)**.5)"
   ]
  },
  {
   "cell_type": "code",
   "execution_count": 4,
   "metadata": {},
   "outputs": [
    {
     "name": "stdout",
     "output_type": "stream",
     "text": [
      "year: 2014, (n=2488)\n",
      "\t match_prob_kls\n",
      "\t accuracy score:  0.6483118971061094\n",
      "\t log loss:  0.6481506218548038\n",
      "\t match_prob_kls_EM\n",
      "\t accuracy score:  0.6563504823151125\n",
      "\t log loss:  0.6127666447137045\n",
      "\t match_prob_sf_kls\n",
      "\t accuracy score:  0.6330385852090032\n",
      "\t log loss:  0.7053562253758375\n",
      "\t match_prob_sf_kls_EM\n",
      "\t accuracy score:  0.6346463022508039\n",
      "\t log loss:  0.6280437730984915\n",
      "\t match_prob_adj_kls\n",
      "\t accuracy score:  0.6780546623794212\n",
      "\t log loss:  0.6372823008893149\n",
      "\t match_prob_adj_kls_EM\n",
      "\t accuracy score:  0.677652733118971\n",
      "\t log loss:  0.6246317083827804\n",
      "\t match_prob_commop_kls\n",
      "\t accuracy score:  0.6567524115755627\n",
      "\t log loss:  0.9933887463130496\n",
      "\t elo_prob\n",
      "\t accuracy score:  0.6913183279742765\n",
      "\t log loss:  0.5891738699332688\n",
      "\t match_prob_commop\n",
      "\t accuracy score:  0.6358520900321544\n",
      "\t log loss:  0.6281730637340442\n",
      "year: 2015, (n=2540)\n",
      "\t match_prob_kls\n",
      "\t accuracy score:  0.6503937007874016\n",
      "\t log loss:  0.6335279074306568\n",
      "\t match_prob_kls_EM\n",
      "\t accuracy score:  0.6519685039370079\n",
      "\t log loss:  0.6092842861934115\n",
      "\t match_prob_sf_kls\n",
      "\t accuracy score:  0.6318897637795275\n",
      "\t log loss:  0.7124210599359776\n",
      "\t match_prob_sf_kls_EM\n",
      "\t accuracy score:  0.6291338582677165\n",
      "\t log loss:  0.6283771125188274\n",
      "\t match_prob_adj_kls\n",
      "\t accuracy score:  0.6799212598425197\n",
      "\t log loss:  0.6131142096395417\n",
      "\t match_prob_adj_kls_EM\n",
      "\t accuracy score:  0.681496062992126\n",
      "\t log loss:  0.6048283955117857\n",
      "\t match_prob_commop_kls\n",
      "\t accuracy score:  0.6614173228346457\n",
      "\t log loss:  0.9808271810212701\n",
      "\t elo_prob\n",
      "\t accuracy score:  0.6925196850393701\n",
      "\t log loss:  0.57891707325091\n",
      "\t match_prob_commop\n",
      "\t accuracy score:  0.6448818897637796\n",
      "\t log loss:  0.6272139101784971\n",
      "year: 2016, (n=2594)\n",
      "\t match_prob_kls\n",
      "\t accuracy score:  0.646106399383192\n",
      "\t log loss:  0.663150652711131\n",
      "\t match_prob_kls_EM\n",
      "\t accuracy score:  0.6472629144178874\n",
      "\t log loss:  0.6278873734093361\n",
      "\t match_prob_sf_kls\n",
      "\t accuracy score:  0.6202775636083269\n",
      "\t log loss:  0.7416665661317391\n",
      "\t match_prob_sf_kls_EM\n",
      "\t accuracy score:  0.6252891287586738\n",
      "\t log loss:  0.6447721859063194\n",
      "\t match_prob_adj_kls\n",
      "\t accuracy score:  0.674248265227448\n",
      "\t log loss:  0.640707317789514\n",
      "\t match_prob_adj_kls_EM\n",
      "\t accuracy score:  0.6757902852737085\n",
      "\t log loss:  0.6318306624157601\n",
      "\t match_prob_commop_kls\n",
      "\t accuracy score:  0.6561295296838859\n",
      "\t log loss:  1.0664184836328048\n",
      "\t elo_prob\n",
      "\t accuracy score:  0.6966075558982266\n",
      "\t log loss:  0.5937548918722884\n",
      "\t match_prob_commop\n",
      "\t accuracy score:  0.6341557440246723\n",
      "\t log loss:  0.6497034604931967\n"
     ]
    }
   ],
   "source": [
    "for year in years:\n",
    "    sub_df = df[(df['match_year'] == year)]\n",
    "    sub_df = sub_df[sub_df['tny_name']!='ATP Challenger Tour Finals CH']\n",
    "    sub_df = sub_df[sub_df['tny_name']!='Davis Cup']\n",
    "    \n",
    "    print('year: {}, (n={})'.format(year, sub_df.shape[0]))\n",
    "    \n",
    "    prob_cols = [\n",
    "        u'match_prob_kls', u'match_prob_kls_EM', u'match_prob_sf_kls', u'match_prob_sf_kls_EM',\n",
    "        u'match_prob_adj_kls', u'match_prob_adj_kls_EM',\n",
    "        u'match_prob_commop_kls', u'elo_prob', u'match_prob_commop'\n",
    "    ]\n",
    "    for col in prob_cols:\n",
    "        print('\\t', col)\n",
    "        print('\\t', 'accuracy score: ', accuracy_score(1 - sub_df['winner'], sub_df[col] >=.5))\n",
    "        print('\\t', 'log loss: ',log_loss(1 - sub_df['winner'], sub_df[col]))\n",
    "        "
   ]
  },
  {
   "cell_type": "markdown",
   "metadata": {},
   "source": [
    "# Case Studies"
   ]
  },
  {
   "cell_type": "code",
   "execution_count": 5,
   "metadata": {},
   "outputs": [],
   "source": [
    "columns = [\n",
    "    'p0_52_swon', 'p0_52_svpt', 'p0_52_rwon', 'p0_52_rpt',\n",
    "    'p1_52_swon', 'p1_52_svpt', 'p1_52_rwon', 'p1_52_rpt',\n",
    "    'p0_s_kls',\n",
    "    'p1_s_kls',\n",
    "    'p0_s_pct', 'p0_r_pct',\n",
    "    'p0_s_pct_EM', 'p0_r_pct_EM',\n",
    "    'p1_s_pct', 'p1_r_pct',\n",
    "    'p1_s_pct_EM', 'p1_r_pct_EM',\n",
    "    'p0_s_kls_EM',\n",
    "    'p1_s_kls_EM',\n",
    "    'p0_52_s_adj',\n",
    "    'p1_52_s_adj',\n",
    "    'p0_s_adj_kls',\n",
    "    'p1_s_adj_kls',\n",
    "    'p0_elo_538',\n",
    "    'p1_elo_538',\n",
    "    'avg_52_s',\n",
    "    'tny_stats',\n",
    "    'tny_name'\n",
    "]"
   ]
  },
  {
   "cell_type": "markdown",
   "metadata": {},
   "source": [
    "## part 1"
   ]
  },
  {
   "cell_type": "code",
   "execution_count": 6,
   "metadata": {},
   "outputs": [
    {
     "data": {
      "text/html": [
       "<div>\n",
       "<style scoped>\n",
       "    .dataframe tbody tr th:only-of-type {\n",
       "        vertical-align: middle;\n",
       "    }\n",
       "\n",
       "    .dataframe tbody tr th {\n",
       "        vertical-align: top;\n",
       "    }\n",
       "\n",
       "    .dataframe thead th {\n",
       "        text-align: right;\n",
       "    }\n",
       "</style>\n",
       "<table border=\"1\" class=\"dataframe\">\n",
       "  <thead>\n",
       "    <tr style=\"text-align: right;\">\n",
       "      <th></th>\n",
       "      <th>p0_52_swon</th>\n",
       "      <th>p0_52_svpt</th>\n",
       "      <th>p0_52_rwon</th>\n",
       "      <th>p0_52_rpt</th>\n",
       "      <th>p1_52_swon</th>\n",
       "      <th>p1_52_svpt</th>\n",
       "      <th>p1_52_rwon</th>\n",
       "      <th>p1_52_rpt</th>\n",
       "      <th>p0_s_kls</th>\n",
       "      <th>p1_s_kls</th>\n",
       "      <th>...</th>\n",
       "      <th>p1_s_kls_EM</th>\n",
       "      <th>p0_52_s_adj</th>\n",
       "      <th>p1_52_s_adj</th>\n",
       "      <th>p0_s_adj_kls</th>\n",
       "      <th>p1_s_adj_kls</th>\n",
       "      <th>p0_elo_538</th>\n",
       "      <th>p1_elo_538</th>\n",
       "      <th>avg_52_s</th>\n",
       "      <th>tny_stats</th>\n",
       "      <th>tny_name</th>\n",
       "    </tr>\n",
       "  </thead>\n",
       "  <tbody>\n",
       "    <tr>\n",
       "      <th>155344</th>\n",
       "      <td>51.0</td>\n",
       "      <td>64.0</td>\n",
       "      <td>22.0</td>\n",
       "      <td>67.0</td>\n",
       "      <td>3516.0</td>\n",
       "      <td>4654.0</td>\n",
       "      <td>1409.0</td>\n",
       "      <td>4903.0</td>\n",
       "      <td>0.892543</td>\n",
       "      <td>0.810164</td>\n",
       "      <td>...</td>\n",
       "      <td>0.766265</td>\n",
       "      <td>0.183006</td>\n",
       "      <td>0.192259</td>\n",
       "      <td>0.851085</td>\n",
       "      <td>0.869031</td>\n",
       "      <td>1585.931324</td>\n",
       "      <td>1952.853601</td>\n",
       "      <td>0.642253</td>\n",
       "      <td>0.66755</td>\n",
       "      <td>Bogota</td>\n",
       "    </tr>\n",
       "  </tbody>\n",
       "</table>\n",
       "<p>1 rows × 29 columns</p>\n",
       "</div>"
      ],
      "text/plain": [
       "        p0_52_swon  p0_52_svpt  p0_52_rwon  p0_52_rpt  p1_52_swon  p1_52_svpt  \\\n",
       "155344        51.0        64.0        22.0       67.0      3516.0      4654.0   \n",
       "\n",
       "        p1_52_rwon  p1_52_rpt  p0_s_kls  p1_s_kls  ...  p1_s_kls_EM  \\\n",
       "155344      1409.0     4903.0  0.892543  0.810164  ...     0.766265   \n",
       "\n",
       "        p0_52_s_adj  p1_52_s_adj  p0_s_adj_kls  p1_s_adj_kls   p0_elo_538  \\\n",
       "155344     0.183006     0.192259      0.851085      0.869031  1585.931324   \n",
       "\n",
       "         p1_elo_538  avg_52_s  tny_stats  tny_name  \n",
       "155344  1952.853601  0.642253    0.66755    Bogota  \n",
       "\n",
       "[1 rows x 29 columns]"
      ]
     },
     "execution_count": 6,
     "metadata": {},
     "output_type": "execute_result"
    }
   ],
   "source": [
    "current_match_index = (df['p0_name'] == 'Daniel Elahi') & (df['p1_name'] == 'Ivo Karlovic')\n",
    "subDf = df[current_match_index]\n",
    "subDf[columns]"
   ]
  },
  {
   "cell_type": "code",
   "execution_count": 7,
   "metadata": {},
   "outputs": [
    {
     "data": {
      "text/plain": [
       "(0.659894562319806,\n",
       " 0.36482642219914857,\n",
       " 0.7480477942211473,\n",
       " 0.29348880588928805)"
      ]
     },
     "execution_count": 7,
     "metadata": {},
     "output_type": "execute_result"
    }
   ],
   "source": [
    "subDf['p0_s_pct_EM'].values[0], subDf['p0_r_pct_EM'].values[0], subDf['p1_s_pct_EM'].values[0], subDf['p1_r_pct_EM'].values[0]"
   ]
  },
  {
   "cell_type": "code",
   "execution_count": 8,
   "metadata": {},
   "outputs": [
    {
     "name": "stdout",
     "output_type": "stream",
     "text": [
      "0.809452578860394\n",
      "0.427671812550951\n",
      "0.10791915170229861\n"
     ]
    }
   ],
   "source": [
    "print(matchProb(subDf['p0_s_kls'].values[0], 1 - subDf['p1_s_kls'].values[0]))\n",
    "print(matchProb(subDf['p0_s_kls_EM'].values[0], 1 - subDf['p1_s_kls_EM'].values[0]))\n",
    "\n",
    "d = (subDf['p1_elo_538'].values[0] - subDf['p0_elo_538'].values[0]) / 400\n",
    "print((1 + 10 ** (d))** (-1))"
   ]
  },
  {
   "cell_type": "markdown",
   "metadata": {},
   "source": [
    "## part 2"
   ]
  },
  {
   "cell_type": "code",
   "execution_count": 9,
   "metadata": {},
   "outputs": [
    {
     "data": {
      "text/html": [
       "<div>\n",
       "<style scoped>\n",
       "    .dataframe tbody tr th:only-of-type {\n",
       "        vertical-align: middle;\n",
       "    }\n",
       "\n",
       "    .dataframe tbody tr th {\n",
       "        vertical-align: top;\n",
       "    }\n",
       "\n",
       "    .dataframe thead th {\n",
       "        text-align: right;\n",
       "    }\n",
       "</style>\n",
       "<table border=\"1\" class=\"dataframe\">\n",
       "  <thead>\n",
       "    <tr style=\"text-align: right;\">\n",
       "      <th></th>\n",
       "      <th>p0_52_swon</th>\n",
       "      <th>p0_52_svpt</th>\n",
       "      <th>p0_52_rwon</th>\n",
       "      <th>p0_52_rpt</th>\n",
       "      <th>p1_52_swon</th>\n",
       "      <th>p1_52_svpt</th>\n",
       "      <th>p1_52_rwon</th>\n",
       "      <th>p1_52_rpt</th>\n",
       "      <th>p0_s_kls</th>\n",
       "      <th>p1_s_kls</th>\n",
       "      <th>...</th>\n",
       "      <th>p1_s_kls_EM</th>\n",
       "      <th>p0_52_s_adj</th>\n",
       "      <th>p1_52_s_adj</th>\n",
       "      <th>p0_s_adj_kls</th>\n",
       "      <th>p1_s_adj_kls</th>\n",
       "      <th>p0_elo_538</th>\n",
       "      <th>p1_elo_538</th>\n",
       "      <th>avg_52_s</th>\n",
       "      <th>tny_stats</th>\n",
       "      <th>tny_name</th>\n",
       "    </tr>\n",
       "  </thead>\n",
       "  <tbody>\n",
       "    <tr>\n",
       "      <th>152904</th>\n",
       "      <td>1828.0</td>\n",
       "      <td>2960.0</td>\n",
       "      <td>1145.0</td>\n",
       "      <td>2947.0</td>\n",
       "      <td>900.0</td>\n",
       "      <td>1370.0</td>\n",
       "      <td>424.0</td>\n",
       "      <td>1323.0</td>\n",
       "      <td>0.644558</td>\n",
       "      <td>0.615878</td>\n",
       "      <td>...</td>\n",
       "      <td>0.612827</td>\n",
       "      <td>0.050583</td>\n",
       "      <td>0.106202</td>\n",
       "      <td>0.627976</td>\n",
       "      <td>0.641336</td>\n",
       "      <td>1941.650048</td>\n",
       "      <td>1931.066267</td>\n",
       "      <td>0.637322</td>\n",
       "      <td>0.622117</td>\n",
       "      <td>US Open</td>\n",
       "    </tr>\n",
       "  </tbody>\n",
       "</table>\n",
       "<p>1 rows × 29 columns</p>\n",
       "</div>"
      ],
      "text/plain": [
       "        p0_52_swon  p0_52_svpt  p0_52_rwon  p0_52_rpt  p1_52_swon  p1_52_svpt  \\\n",
       "152904      1828.0      2960.0      1145.0     2947.0       900.0      1370.0   \n",
       "\n",
       "        p1_52_rwon  p1_52_rpt  p0_s_kls  p1_s_kls  ...  p1_s_kls_EM  \\\n",
       "152904       424.0     1323.0  0.644558  0.615878  ...     0.612827   \n",
       "\n",
       "        p0_52_s_adj  p1_52_s_adj  p0_s_adj_kls  p1_s_adj_kls   p0_elo_538  \\\n",
       "152904     0.050583     0.106202      0.627976      0.641336  1941.650048   \n",
       "\n",
       "         p1_elo_538  avg_52_s  tny_stats  tny_name  \n",
       "152904  1931.066267  0.637322   0.622117   US Open  \n",
       "\n",
       "[1 rows x 29 columns]"
      ]
     },
     "execution_count": 9,
     "metadata": {},
     "output_type": "execute_result"
    }
   ],
   "source": [
    "current_match_index = (df['p0_name'] == 'Mikhail Youzhny') & (df['p1_name'] == 'Nick Kyrgios')\n",
    "subDf = df[current_match_index]\n",
    "subDf[columns]"
   ]
  },
  {
   "cell_type": "code",
   "execution_count": 10,
   "metadata": {},
   "outputs": [
    {
     "name": "stdout",
     "output_type": "stream",
     "text": [
      "0.6410482694317813\n",
      "0.433449491719355\n"
     ]
    }
   ],
   "source": [
    "print(matchProb(subDf['p0_s_kls'].values[0], 1 - subDf['p1_s_kls'].values[0]))\n",
    "print(matchProb(subDf['p0_s_adj_kls'].values[0], 1 - subDf['p1_s_adj_kls'].values[0]))"
   ]
  },
  {
   "cell_type": "code",
   "execution_count": 11,
   "metadata": {},
   "outputs": [],
   "source": [
    "## generating adj stats up until this specific match to view player_stats before match started...\n",
    "start_ind=0\n",
    "players_stats = {}\n",
    "match_52_stats = np.zeros([2,len(df),2])\n",
    "\n",
    "w_l = ['p0','p1']\n",
    "for i, row in df.loc[start_ind:].iterrows():\n",
    "    \n",
    "    surface = row['surface']\n",
    "    date = row['match_year'],row['match_month']\n",
    "    avg_52_s, avg_52_r = row['avg_52_s'],row['avg_52_r']\n",
    "    match_stats = [[],[]]\n",
    "\n",
    "    # add new players to the dictionary\n",
    "    for k,label in enumerate(w_l):\n",
    "        if row[label+'_name'] not in players_stats:\n",
    "            players_stats[row[label+'_name']] = adj_stats_52(date)\n",
    "\n",
    "    # store pre-match adj stats\n",
    "    for k,label in enumerate(w_l):\n",
    "        players_stats[row[label+'_name']].set_month(date)\n",
    "\n",
    "        # fill in player's adjusted stats prior to start of match\n",
    "        match_52_stats[k][i] = players_stats[row[label+'_name']].adj_sr\n",
    "        # update serving stats if not null\n",
    "        if validate(row, label):\n",
    "            sv_stats = (row[label+'_swon'],row[label+'_svpt'],row[label+'_rwon'],row[label+'_rpt'])\n",
    "\n",
    "            opp_r_ablty = players_stats[row[w_l[1-k]+'_name']].adj_sr[1] + avg_52_r\n",
    "            opp_s_ablty = players_stats[row[w_l[1-k]+'_name']].adj_sr[0] + avg_52_s\n",
    "            opp_stats = (opp_r_ablty * row[label + '_svpt'], opp_s_ablty * row[label + '_rpt'])\n",
    "            match_stats[k] = sv_stats + opp_stats\n",
    "\n",
    "    # break before updating player stats\n",
    "    if row['p0_name'] == 'Mikhail Youzhny' and row['p1_name'] == 'Nick Kyrgios':\n",
    "        break    \n",
    "        \n",
    "    # update players' adjusted scores based on pre-match adjusted ratings\n",
    "    for k,label in enumerate(w_l):\n",
    "        # if is_valid(match_stats):\n",
    "        if validate(row, label) and is_valid(match_stats):\n",
    "            players_stats[row[label+'_name']].update(date,match_stats[k])"
   ]
  },
  {
   "cell_type": "code",
   "execution_count": 12,
   "metadata": {},
   "outputs": [
    {
     "name": "stdout",
     "output_type": "stream",
     "text": [
      "s_pt:  2960.0\n",
      "r_pt:  2947.0\n",
      "1 - f_adj:  0.4332356726830806\n",
      "f_adj * s_pt:  1677.6224088580814\n",
      "adj serve stat:  0.050803240250648196\n",
      "1 - g_adj:  0.6982281449280324\n",
      "g_adj * r_pt:  889.3216568970885\n",
      "adj return stat:  0.08675885412382478\n"
     ]
    }
   ],
   "source": [
    "self = players_stats['Mikhail Youzhny']\n",
    "\n",
    "s_pt, r_pt = np.sum(self.last_year[:,1]), np.sum(self.last_year[:,3])\n",
    "f_i = np.sum(self.last_year[:,0])/s_pt\n",
    "f_adj = 1 - np.sum(self.last_year[:,4])/s_pt\n",
    "g_i = np.sum(self.last_year[:,2])/r_pt\n",
    "g_adj = 1 - np.sum(self.last_year[:,5])/r_pt\n",
    "\n",
    "print('s_pt: ', s_pt)\n",
    "print('r_pt: ', r_pt)\n",
    "print('1 - f_adj: ', 1 - f_adj)\n",
    "print('f_adj * s_pt: ', f_adj * s_pt)\n",
    "print('adj serve stat: ', self.adj_sr[0])\n",
    "print('1 - g_adj: ', 1 - g_adj)\n",
    "print('g_adj * r_pt: ', g_adj * r_pt)\n",
    "print('adj return stat: ', self.adj_sr[1])"
   ]
  },
  {
   "cell_type": "code",
   "execution_count": 13,
   "metadata": {},
   "outputs": [
    {
     "name": "stdout",
     "output_type": "stream",
     "text": [
      "s_pt:  1370.0\n",
      "r_pt:  1323.0\n",
      "1 - f_adj:  0.4485836524284619\n",
      "f_adj * s_pt:  755.4403961730072\n",
      "adj serve stat:  0.10551795899780492\n",
      "1 - g_adj:  0.7236624232639385\n",
      "g_adj * r_pt:  365.5946140218094\n",
      "adj return stat:  0.044146172319116106\n"
     ]
    }
   ],
   "source": [
    "self = players_stats['Nick Kyrgios']\n",
    "\n",
    "s_pt, r_pt = np.sum(self.last_year[:,1]), np.sum(self.last_year[:,3])\n",
    "f_i = np.sum(self.last_year[:,0])/s_pt\n",
    "f_adj = 1 - np.sum(self.last_year[:,4])/s_pt\n",
    "g_i = np.sum(self.last_year[:,2])/r_pt\n",
    "g_adj = 1 - np.sum(self.last_year[:,5])/r_pt\n",
    "\n",
    "print('s_pt: ', s_pt)\n",
    "print('r_pt: ', r_pt)\n",
    "print('1 - f_adj: ', 1 - f_adj)\n",
    "print('f_adj * s_pt: ', f_adj * s_pt)\n",
    "print('adj serve stat: ', self.adj_sr[0])\n",
    "print('1 - g_adj: ', 1 - g_adj)\n",
    "print('g_adj * r_pt: ', g_adj * r_pt)\n",
    "print('adj return stat: ', self.adj_sr[1])"
   ]
  },
  {
   "cell_type": "markdown",
   "metadata": {},
   "source": [
    "## part 3"
   ]
  },
  {
   "cell_type": "code",
   "execution_count": 14,
   "metadata": {},
   "outputs": [
    {
     "data": {
      "text/html": [
       "<div>\n",
       "<style scoped>\n",
       "    .dataframe tbody tr th:only-of-type {\n",
       "        vertical-align: middle;\n",
       "    }\n",
       "\n",
       "    .dataframe tbody tr th {\n",
       "        vertical-align: top;\n",
       "    }\n",
       "\n",
       "    .dataframe thead th {\n",
       "        text-align: right;\n",
       "    }\n",
       "</style>\n",
       "<table border=\"1\" class=\"dataframe\">\n",
       "  <thead>\n",
       "    <tr style=\"text-align: right;\">\n",
       "      <th></th>\n",
       "      <th>p0_52_swon</th>\n",
       "      <th>p0_52_svpt</th>\n",
       "      <th>p0_52_rwon</th>\n",
       "      <th>p0_52_rpt</th>\n",
       "      <th>p1_52_swon</th>\n",
       "      <th>p1_52_svpt</th>\n",
       "      <th>p1_52_rwon</th>\n",
       "      <th>p1_52_rpt</th>\n",
       "      <th>p0_s_kls</th>\n",
       "      <th>p1_s_kls</th>\n",
       "      <th>...</th>\n",
       "      <th>p1_52_s_adj</th>\n",
       "      <th>p0_s_adj_kls</th>\n",
       "      <th>p1_s_adj_kls</th>\n",
       "      <th>p0_elo_538</th>\n",
       "      <th>p1_elo_538</th>\n",
       "      <th>avg_52_s</th>\n",
       "      <th>tny_stats</th>\n",
       "      <th>tny_name</th>\n",
       "      <th>p0_s_kls_elo</th>\n",
       "      <th>p1_s_kls_elo</th>\n",
       "    </tr>\n",
       "  </thead>\n",
       "  <tbody>\n",
       "    <tr>\n",
       "      <th>158451</th>\n",
       "      <td>2345.0</td>\n",
       "      <td>3533.0</td>\n",
       "      <td>1433.0</td>\n",
       "      <td>3608.0</td>\n",
       "      <td>3309.0</td>\n",
       "      <td>5069.0</td>\n",
       "      <td>2103.0</td>\n",
       "      <td>5229.0</td>\n",
       "      <td>0.62633</td>\n",
       "      <td>0.620387</td>\n",
       "      <td>...</td>\n",
       "      <td>0.100497</td>\n",
       "      <td>0.603731</td>\n",
       "      <td>0.620936</td>\n",
       "      <td>2140.559471</td>\n",
       "      <td>2295.556094</td>\n",
       "      <td>0.635231</td>\n",
       "      <td>0.635231</td>\n",
       "      <td>Olympics</td>\n",
       "      <td>0.601963</td>\n",
       "      <td>0.645494</td>\n",
       "    </tr>\n",
       "  </tbody>\n",
       "</table>\n",
       "<p>1 rows × 31 columns</p>\n",
       "</div>"
      ],
      "text/plain": [
       "        p0_52_swon  p0_52_svpt  p0_52_rwon  p0_52_rpt  p1_52_swon  p1_52_svpt  \\\n",
       "158451      2345.0      3533.0      1433.0     3608.0      3309.0      5069.0   \n",
       "\n",
       "        p1_52_rwon  p1_52_rpt  p0_s_kls  p1_s_kls  ...  p1_52_s_adj  \\\n",
       "158451      2103.0     5229.0   0.62633  0.620387  ...     0.100497   \n",
       "\n",
       "        p0_s_adj_kls  p1_s_adj_kls   p0_elo_538   p1_elo_538  avg_52_s  \\\n",
       "158451      0.603731      0.620936  2140.559471  2295.556094  0.635231   \n",
       "\n",
       "        tny_stats  tny_name  p0_s_kls_elo  p1_s_kls_elo  \n",
       "158451   0.635231  Olympics      0.601963      0.645494  \n",
       "\n",
       "[1 rows x 31 columns]"
      ]
     },
     "execution_count": 14,
     "metadata": {},
     "output_type": "execute_result"
    }
   ],
   "source": [
    "current_match_index = (df['p0_name'] == 'Gael Monfils') & (df['p1_name'] == 'Kei Nishikori') & (df['tny_name'] == 'Olympics')\n",
    "subDf = df[current_match_index]\n",
    "subDf[columns + ['p0_s_kls_elo', 'p1_s_kls_elo']]"
   ]
  },
  {
   "cell_type": "code",
   "execution_count": 15,
   "metadata": {},
   "outputs": [
    {
     "name": "stdout",
     "output_type": "stream",
     "text": [
      "0.530036323749347\n",
      "0.7093506224496224\n"
     ]
    }
   ],
   "source": [
    "print(matchProb(subDf['p0_s_kls'].values[0], 1 - subDf['p1_s_kls'].values[0]))\n",
    "print(1 - matchProb(subDf['p0_s_kls_elo'].values[0], 1 - subDf['p1_s_kls_elo'].values[0]))"
   ]
  },
  {
   "cell_type": "code",
   "execution_count": 16,
   "metadata": {},
   "outputs": [
    {
     "data": {
      "text/plain": [
       "(0.6016008080005122, 0.6451166110894735)"
      ]
     },
     "execution_count": 16,
     "metadata": {},
     "output_type": "execute_result"
    }
   ],
   "source": [
    "overall_serve = subDf['p0_s_kls'].values[0] + subDf['p1_s_kls'].values[0]\n",
    "win_prob = matchProb(subDf['p0_s_kls_elo'].values[0], 1 - subDf['p1_s_kls_elo'].values[0])\n",
    "kovalchik_induced_s(win_prob, overall_serve - 1)"
   ]
  },
  {
   "cell_type": "code",
   "execution_count": null,
   "metadata": {},
   "outputs": [],
   "source": []
  }
 ],
 "metadata": {
  "kernelspec": {
   "display_name": "Python 3",
   "language": "python",
   "name": "python3"
  },
  "language_info": {
   "codemirror_mode": {
    "name": "ipython",
    "version": 3
   },
   "file_extension": ".py",
   "mimetype": "text/x-python",
   "name": "python",
   "nbconvert_exporter": "python",
   "pygments_lexer": "ipython3",
   "version": "3.6.3"
  }
 },
 "nbformat": 4,
 "nbformat_minor": 2
}
